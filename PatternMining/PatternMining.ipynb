{
 "cells": [
  {
   "cell_type": "code",
   "execution_count": 1,
   "metadata": {},
   "outputs": [],
   "source": [
    "TDB = [['a','b'],\n",
    "       ['b','c','d'],\n",
    "       ['a','c','d','e'],\n",
    "       ['a','d','e'],\n",
    "       ['a','b','c'],\n",
    "       ['a','b','c','d'],\n",
    "       ['a'],\n",
    "       ['a','b','c'],\n",
    "       ['a','b','d'],\n",
    "       ['b','c','e']]\n",
    "TDB = list(map(set,TDB))\n",
    "min_sup = 2"
   ]
  },
  {
   "cell_type": "markdown",
   "metadata": {},
   "source": [
    "## Apriori algorithm"
   ]
  },
  {
   "cell_type": "code",
   "execution_count": 2,
   "metadata": {},
   "outputs": [],
   "source": [
    "import itertools\n",
    "import numpy as np\n"
   ]
  },
  {
   "cell_type": "code",
   "execution_count": 4,
   "metadata": {},
   "outputs": [],
   "source": [
    "def createC1(Dataset):\n",
    "    \n",
    "    # gather all element type\n",
    "    C1 = (np.unique(list(itertools.chain(*TDB))))\n",
    "    \n",
    "    return C1"
   ]
  },
  {
   "cell_type": "code",
   "execution_count": 3,
   "metadata": {},
   "outputs": [],
   "source": [
    "def cleanDB(TDB, Ck, min_support):\n",
    "\n",
    "    Ck = list(map(set,Ck))\n",
    "    \n",
    "    # record each support of each element by using table iff its support >= min_sup\n",
    "    Fk = list()\n",
    "    spcount = list()\n",
    "    cur_level_spdata = list()\n",
    "\n",
    "    for cand in Ck:\n",
    "        support = 0\n",
    "        for i in range(len(TDB)):\n",
    "            if cand.issubset(TDB[i]):\n",
    "                support+=1\n",
    "        if support >= min_support and cand not in Fk:\n",
    "            Fk.append(cand)\n",
    "            spcount.append((support))\n",
    "    \n",
    "    for i in range(len(Fk)):\n",
    "        txt = \"{}:{}\".format(Fk[i], spcount[i])\n",
    "        cur_level_spdata.append(txt)\n",
    "\n",
    "    return Fk, cur_level_spdata\n"
   ]
  },
  {
   "cell_type": "code",
   "execution_count": 5,
   "metadata": {},
   "outputs": [],
   "source": [
    "# TODO\n",
    "def generate_cand(Fk, k): #creates Ck\n",
    "    Ck = list()\n",
    "    for i in range(len(Fk)):\n",
    "        for j in range(i+1, len(Fk)): \n",
    "            Ck.append(Fk[i]|Fk[j])\n",
    "    return Ck\n"
   ]
  },
  {
   "cell_type": "code",
   "execution_count": 6,
   "metadata": {},
   "outputs": [],
   "source": [
    "def apriori(TDB, min_sup):\n",
    "    all_level_spdata=list()\n",
    "\n",
    "    C1 = createC1(TDB)\n",
    "    F1, cur_level_spdata = cleanDB(TDB, C1, min_sup)\n",
    "\n",
    "    F = F1\n",
    "    Level = [F1]\n",
    "    all_level_spdata.append(cur_level_spdata)\n",
    "    k = 1\n",
    "\n",
    "    while F:\n",
    "        k = k + 1\n",
    "        C = generate_cand(F,k)\n",
    "        F, cur_level_spdata = cleanDB(TDB, C, min_sup)\n",
    "        all_level_spdata.append(cur_level_spdata)\n",
    "        Level.append(F)\n",
    "    return Level, all_level_spdata"
   ]
  },
  {
   "cell_type": "code",
   "execution_count": 7,
   "metadata": {},
   "outputs": [],
   "source": [
    "Level, all_level_spdata = apriori(TDB, min_sup)\n"
   ]
  },
  {
   "cell_type": "code",
   "execution_count": 8,
   "metadata": {},
   "outputs": [
    {
     "output_type": "execute_result",
     "data": {
      "text/plain": [
       "[{'a'}, {'b'}, {'c'}, {'d'}, {'e'}]"
      ]
     },
     "metadata": {},
     "execution_count": 8
    }
   ],
   "source": [
    "Level[0]"
   ]
  },
  {
   "cell_type": "code",
   "execution_count": 9,
   "metadata": {},
   "outputs": [
    {
     "output_type": "execute_result",
     "data": {
      "text/plain": [
       "[{'a', 'b'},\n",
       " {'a', 'c'},\n",
       " {'a', 'd'},\n",
       " {'a', 'e'},\n",
       " {'b', 'c'},\n",
       " {'b', 'd'},\n",
       " {'c', 'd'},\n",
       " {'c', 'e'},\n",
       " {'d', 'e'}]"
      ]
     },
     "metadata": {},
     "execution_count": 9
    }
   ],
   "source": [
    "Level[1]"
   ]
  },
  {
   "cell_type": "code",
   "execution_count": 10,
   "metadata": {},
   "outputs": [
    {
     "output_type": "execute_result",
     "data": {
      "text/plain": [
       "[{'a', 'b', 'c'},\n",
       " {'a', 'b', 'd'},\n",
       " {'a', 'c', 'd'},\n",
       " {'a', 'd', 'e'},\n",
       " {'b', 'c', 'd'}]"
      ]
     },
     "metadata": {},
     "execution_count": 10
    }
   ],
   "source": [
    "Level[2]"
   ]
  },
  {
   "cell_type": "code",
   "execution_count": 11,
   "metadata": {},
   "outputs": [
    {
     "output_type": "execute_result",
     "data": {
      "text/plain": [
       "[]"
      ]
     },
     "metadata": {},
     "execution_count": 11
    }
   ],
   "source": [
    "Level[3]"
   ]
  },
  {
   "cell_type": "code",
   "execution_count": 12,
   "metadata": {},
   "outputs": [
    {
     "output_type": "execute_result",
     "data": {
      "text/plain": [
       "[[\"{'a'}:8\", \"{'b'}:7\", \"{'c'}:6\", \"{'d'}:5\", \"{'e'}:3\"],\n",
       " [\"{'a', 'b'}:5\",\n",
       "  \"{'a', 'c'}:4\",\n",
       "  \"{'a', 'd'}:4\",\n",
       "  \"{'a', 'e'}:2\",\n",
       "  \"{'c', 'b'}:5\",\n",
       "  \"{'d', 'b'}:3\",\n",
       "  \"{'c', 'd'}:3\",\n",
       "  \"{'c', 'e'}:2\",\n",
       "  \"{'d', 'e'}:2\"],\n",
       " [\"{'a', 'c', 'b'}:3\",\n",
       "  \"{'a', 'd', 'b'}:2\",\n",
       "  \"{'a', 'd', 'c'}:2\",\n",
       "  \"{'a', 'd', 'e'}:2\",\n",
       "  \"{'c', 'd', 'b'}:2\"],\n",
       " []]"
      ]
     },
     "metadata": {},
     "execution_count": 12
    }
   ],
   "source": [
    "all_level_spdata"
   ]
  },
  {
   "cell_type": "code",
   "execution_count": null,
   "metadata": {},
   "outputs": [],
   "source": []
  }
 ],
 "metadata": {
  "kernelspec": {
   "name": "Python 3.6.12 64-bit ('cv1p4': conda)",
   "display_name": "Python 3.6.12 64-bit ('cv1p4': conda)",
   "metadata": {
    "interpreter": {
     "hash": "a865cffe79619605b759d9e81ce440b9b7b90ffb7cd84b5d2c9d1e09927f251c"
    }
   }
  },
  "language_info": {
   "codemirror_mode": {
    "name": "ipython",
    "version": 3
   },
   "file_extension": ".py",
   "mimetype": "text/x-python",
   "name": "python",
   "nbconvert_exporter": "python",
   "pygments_lexer": "ipython3",
   "version": "3.6.12-final"
  }
 },
 "nbformat": 4,
 "nbformat_minor": 4
}